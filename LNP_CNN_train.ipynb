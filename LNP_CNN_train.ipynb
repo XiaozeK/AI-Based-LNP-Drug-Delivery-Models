{
 "cells": [
  {
   "cell_type": "markdown",
   "metadata": {},
   "source": [
    "## CNN for t=1 to t=20\n",
    "Taking first three convolutional and pooling layers (first three blocks) of VGG16. In the final block extract the final convolutional layer and add on top of the network the following layers:\n",
    "1. Batch normalization\n",
    "2. Global average pooling\n",
    "3. Latent vector\n",
    "4. Batch normalization (size 32 - this is the feature vector for use in the time-series modelling)\n",
    "5. RELU activation\n",
    "6. Final dense layer of size 1 (with a sigmoid activation for classification mode and no activation when in prediction/regression mode).\n",
    "\n",
    "\n",
    "### Modelling info\n",
    "5 fold cross-validation on training data. Binary cross-entropy loss for classification and MSE loss for the regressor along with the Adam optimizer (with a learning rate of 0.001). Batch size of 32. Training for 50 epochs with the base model frozen. 50 epochs was sufficient for convergence. Unfreezing the base after and training for more epochs did not lower the validation loss, so here the base is kept frozen. 90 degree rotations and mirroring were used to augment the training data to 8 times its size. Augmentation was also used on the validation data (and will also be used in the end, in later notebooks, on the test data). Save best weights as go along and best model at the end."
   ]
  },
  {
   "cell_type": "code",
   "execution_count": 1,
   "metadata": {},
   "outputs": [
    {
     "data": {
      "text/html": [
       "<style>.container { width:100% !important; }</style>"
      ],
      "text/plain": [
       "<IPython.core.display.HTML object>"
      ]
     },
     "metadata": {},
     "output_type": "display_data"
    }
   ],
   "source": [
    "from IPython.core.display import display, HTML\n",
    "display(HTML(\"<style>.container { width:100% !important; }</style>\"))"
   ]
  },
  {
   "cell_type": "code",
   "execution_count": 2,
   "metadata": {},
   "outputs": [
    {
     "name": "stderr",
     "output_type": "stream",
     "text": [
      "Using TensorFlow backend.\n"
     ]
    },
    {
     "data": {
      "text/plain": [
       "'2.2.4'"
      ]
     },
     "execution_count": 2,
     "metadata": {},
     "output_type": "execute_result"
    }
   ],
   "source": [
    "from __future__ import absolute_import\n",
    "from __future__ import division\n",
    "from __future__ import print_function\n",
    "import keras\n",
    "keras.__version__"
   ]
  },
  {
   "cell_type": "code",
   "execution_count": 3,
   "metadata": {},
   "outputs": [],
   "source": [
    "import numpy as np\n",
    "import matplotlib.pyplot as plt\n",
    "import pandas as pd\n",
    "import cv2\n",
    "import re\n",
    "import glob\n",
    "from keras.applications.vgg16 import VGG16\n",
    "from keras.preprocessing import image\n",
    "from keras.applications.vgg16 import preprocess_input\n",
    "from keras.models import Model\n",
    "from keras.layers import Dense, Flatten, Activation, BatchNormalization, GlobalAveragePooling2D\n",
    "from keras.optimizers import RMSprop, Adam\n",
    "from keras import backend as K\n",
    "from sklearn.metrics import confusion_matrix\n",
    "from sklearn.metrics import classification_report\n",
    "from sklearn.utils import class_weight\n",
    "from datetime import datetime"
   ]
  },
  {
   "cell_type": "code",
   "execution_count": 4,
   "metadata": {},
   "outputs": [],
   "source": [
    "def atoi(text):\n",
    "    return int(text) if text.isdigit() else text\n",
    "\n",
    "def natural_keys(text):\n",
    "    return [atoi(c) for c in re.split('(\\d+)', text)]"
   ]
  },
  {
   "cell_type": "code",
   "execution_count": 5,
   "metadata": {},
   "outputs": [],
   "source": [
    "def plot_history(model_history, model_name, fit_method):\n",
    "    fig = plt.figure(figsize=(8,5), facecolor='w')\n",
    "    ax = fig.add_subplot(111)\n",
    "    ax.plot(model_history.history['loss'])\n",
    "    ax.plot(model_history.history['val_loss'])\n",
    "    ax.set(title=model_name + ': Model loss', ylabel='Loss', xlabel='Epoch')\n",
    "    ax.legend(['Train', 'Test'], loc='upper right')\n",
    "    plt.show()\n",
    "    plt.close()"
   ]
  },
  {
   "cell_type": "code",
   "execution_count": 6,
   "metadata": {},
   "outputs": [],
   "source": [
    "def get_image(path, stats, rescale_method):\n",
    "    img = np.load(path)\n",
    "    img = img.astype('float32')\n",
    "    return img"
   ]
  },
  {
   "cell_type": "code",
   "execution_count": 7,
   "metadata": {},
   "outputs": [],
   "source": [
    "def get_gfp(path, stats, rescale_method, fit_method, gfp_thresh):\n",
    "    gfp = np.load(path)\n",
    "    if fit_method == 'classify':\n",
    "        if gfp <= gfp_thresh:\n",
    "            res = 0.\n",
    "        else:\n",
    "            res = 1.\n",
    "    if fit_method == 'regress':\n",
    "        if rescale_method == 'log':\n",
    "            res = np.log(gfp)\n",
    "        if rescale_method == 'log_center':\n",
    "            res = np.log(gfp) - np.log(stats[2])\n",
    "        if rescale_method == 'normalize':\n",
    "            res = (gfp - stats[0])/(stats[1] - stats[0])\n",
    "        if rescale_method == 'standardize':\n",
    "            res = (gfp - stats[2])/stats[3]\n",
    "        if rescale_method == 'log_normalize':\n",
    "            res = (np.log(gfp) - np.log(stats[0]))/(np.log(stats[1]) - np.log(stats[0]))\n",
    "        if rescale_method == 'log_standardize':\n",
    "            res = (np.log(gfp) - np.log(stats[2]))/np.log(stats[3])\n",
    "    return res"
   ]
  },
  {
   "cell_type": "code",
   "execution_count": 8,
   "metadata": {},
   "outputs": [],
   "source": [
    "def rotate90xDegrees(img):\n",
    "    ret =[]\n",
    "    rows, cols = img.shape\n",
    "    for i in range(1,4):\n",
    "        M = cv2.getRotationMatrix2D((cols/2,rows/2),i*90,1)\n",
    "        ret.append(cv2.warpAffine(img,M,(cols,rows)))\n",
    "    return ret"
   ]
  },
  {
   "cell_type": "code",
   "execution_count": 9,
   "metadata": {},
   "outputs": [],
   "source": [
    "def augment_image(img, aug_no):\n",
    "    img_new = np.zeros((img.shape)).astype('float32')\n",
    "    rows, cols, chans = img.shape\n",
    "    for i in range(chans):\n",
    "        if aug_no == 0:\n",
    "            img_new[:, :, i] = img[:, :, i]\n",
    "        if aug_no == 1:\n",
    "            img_new[:, :, i] = np.flipud(img[:, :, i])\n",
    "        if aug_no == 2:\n",
    "            img_new[:, :, i] = np.fliplr(img[:, :, i])\n",
    "        if aug_no == 3:\n",
    "            ud = np.flipud(img[:, :, i])\n",
    "            img_new[:, :, i] = np.fliplr(ud)\n",
    "        if aug_no == 4:\n",
    "            img_new[:, :, i] = rotate90xDegrees(img[:, :, i])[0]\n",
    "        if aug_no == 5:\n",
    "            ud = np.flipud(img[:, :, i])\n",
    "            img_new[:, :, i] = rotate90xDegrees(ud)[0]\n",
    "        if aug_no == 6:\n",
    "            lr = np.fliplr(img[:, :, i])\n",
    "            img_new[:, :, i] = rotate90xDegrees(lr)[0]\n",
    "        if aug_no == 7:\n",
    "            ud = np.flipud(img[:, :, i])\n",
    "            udlr = np.fliplr(ud)\n",
    "            img_new[:, :, i] = rotate90xDegrees(udlr)[0]\n",
    "    \n",
    "    return img_new"
   ]
  },
  {
   "cell_type": "code",
   "execution_count": 10,
   "metadata": {},
   "outputs": [],
   "source": [
    "def image_generator(cell_files, gfp_files, batch_size, cell_stats, gfp_stats, \n",
    "                          cell_rescale_method, gfp_rescale_method, fit_method):\n",
    "    while True:\n",
    "        # Select files (paths/indices) for the batch\n",
    "        samp = np.random.choice(np.arange(0, len(cell_files)), size=batch_size, replace=False)\n",
    "        batch_paths_in =  [cell_files[index] for index in samp]\n",
    "        batch_paths_out = [gfp_files[index] for index in samp]\n",
    "        batch_input = []\n",
    "        batch_output = []\n",
    "        aug_nums = np.random.randint(0, 8, batch_size)\n",
    "        \n",
    "        for ii, image_path in enumerate(batch_paths_in):\n",
    "            img = get_image(image_path, stats=cell_stats, rescale_method=cell_rescale_method)\n",
    "            aug_no = aug_nums[ii]\n",
    "            img = augment_image(img, aug_no=aug_no)\n",
    "            batch_input += [img]\n",
    "        \n",
    "        for ii, path in enumerate(batch_paths_out):\n",
    "            target = get_gfp(path, stats=gfp_stats, rescale_method=gfp_rescale_method, \n",
    "                             fit_method=fit_method, gfp_thresh=gfp_stats[4])\n",
    "            batch_output += [target]\n",
    "        \n",
    "        batch_x = np.array(batch_input)\n",
    "        batch_y = np.array(batch_output)\n",
    "        \n",
    "        if fit_method == 'classify':\n",
    "            batch_y = batch_y.astype('int64')\n",
    "        \n",
    "        yield batch_x, batch_y"
   ]
  },
  {
   "cell_type": "markdown",
   "metadata": {},
   "source": [
    "### Data and modelling settings"
   ]
  },
  {
   "cell_type": "code",
   "execution_count": 11,
   "metadata": {},
   "outputs": [],
   "source": [
    "fold = 'fold5' # this is the validation fold, all cells not in this fold used for proper training\n",
    "unfreeze_base = 'False'\n",
    "\n",
    "all_cell_dir = '/scratch-shared/phil/LNP/LNP_data_09/images_train'\n",
    "all_cell = glob.glob(all_cell_dir + '/' '*')\n",
    "all_cell = sorted(all_cell, key = natural_keys)\n",
    "all_gfp_dir = '/scratch-shared/phil/LNP/LNP_data_09/gfp_train'\n",
    "\n",
    "train_cell = []\n",
    "train_gfp = []\n",
    "\n",
    "valid_cell = []\n",
    "valid_gfp = []\n",
    "\n",
    "for cell in all_cell:\n",
    "    s0 = cell.split('train/')\n",
    "    s1 = s0[1].split('_')\n",
    "    if s1[0] == fold:\n",
    "        valid_cell.append(cell)\n",
    "        f = glob.glob(all_gfp_dir + '/' + s1[1] + '_' + s1[2] + '_T0072_cell_' + s1[5])\n",
    "        valid_gfp.extend(f)\n",
    "    else:\n",
    "        train_cell.append(cell)\n",
    "        f = glob.glob(all_gfp_dir + '/' + s1[1] + '_' + s1[2] + '_T0072_cell_' + s1[5])\n",
    "        train_gfp.extend(f)\n",
    "\n",
    "\n",
    "fit_method = 'regress' # 'classify' or 'regress'\n",
    "# previous explorations showed the following two rescaling methods to be the most appropriate\n",
    "cell_rescale_method = 'standardize'\n",
    "gfp_rescale_method = 'log_center'\n",
    "cell_stats = np.load('/scratch-shared/phil/LNP/LNP_data_09/cell_stats.npy')\n",
    "gfp_stats = np.load('/scratch-shared/phil/LNP/LNP_data_09/gfp_stats.npy')\n",
    "\n",
    "# getting class weights for when in classification mode\n",
    "if fit_method == 'classify':\n",
    "    class_gfp = []\n",
    "    for cell in train_gfp:\n",
    "        gfp = get_gfp(cell, stats=gfp_stats, rescale_method=gfp_rescale_method, \n",
    "                      fit_method=fit_method, gfp_thresh=gfp_stats[4])\n",
    "        class_gfp = np.append(class_gfp, gfp)\n",
    "    class_gfp = class_gfp.astype('int64')\n",
    "    weights = class_weight.compute_class_weight('balanced', np.unique(class_gfp), class_gfp)\n",
    "    print('weights = ' + str(weights))\n",
    "\n",
    "save_best = keras.callbacks.ModelCheckpoint('best.weights', monitor='val_loss', verbose=0, save_best_only=True)\n",
    "batch_size = 32\n",
    "latent_dim = 32\n",
    "num_epochs = 50\n",
    "lr = 0.001"
   ]
  },
  {
   "cell_type": "code",
   "execution_count": 12,
   "metadata": {},
   "outputs": [
    {
     "name": "stdout",
     "output_type": "stream",
     "text": [
      "_________________________________________________________________\n",
      "Layer (type)                 Output Shape              Param #   \n",
      "=================================================================\n",
      "input_1 (InputLayer)         (None, 192, 192, 3)       0         \n",
      "_________________________________________________________________\n",
      "block1_conv1 (Conv2D)        (None, 192, 192, 64)      1792      \n",
      "_________________________________________________________________\n",
      "block1_conv2 (Conv2D)        (None, 192, 192, 64)      36928     \n",
      "_________________________________________________________________\n",
      "block1_pool (MaxPooling2D)   (None, 96, 96, 64)        0         \n",
      "_________________________________________________________________\n",
      "block2_conv1 (Conv2D)        (None, 96, 96, 128)       73856     \n",
      "_________________________________________________________________\n",
      "block2_conv2 (Conv2D)        (None, 96, 96, 128)       147584    \n",
      "_________________________________________________________________\n",
      "block2_pool (MaxPooling2D)   (None, 48, 48, 128)       0         \n",
      "_________________________________________________________________\n",
      "block3_conv1 (Conv2D)        (None, 48, 48, 256)       295168    \n",
      "_________________________________________________________________\n",
      "block3_conv2 (Conv2D)        (None, 48, 48, 256)       590080    \n",
      "_________________________________________________________________\n",
      "block3_conv3 (Conv2D)        (None, 48, 48, 256)       590080    \n",
      "_________________________________________________________________\n",
      "batch_normalization_1 (Batch (None, 48, 48, 256)       1024      \n",
      "_________________________________________________________________\n",
      "global_average_pooling2d_1 ( (None, 256)               0         \n",
      "_________________________________________________________________\n",
      "dense_1 (Dense)              (None, 32)                8224      \n",
      "_________________________________________________________________\n",
      "latent_vector (BatchNormaliz (None, 32)                128       \n",
      "_________________________________________________________________\n",
      "activation_1 (Activation)    (None, 32)                0         \n",
      "_________________________________________________________________\n",
      "dense_2 (Dense)              (None, 1)                 33        \n",
      "=================================================================\n",
      "Total params: 1,744,897\n",
      "Trainable params: 1,744,321\n",
      "Non-trainable params: 576\n",
      "_________________________________________________________________\n"
     ]
    }
   ],
   "source": [
    "pretrained_model = VGG16(weights='imagenet',\n",
    "                         include_top=False,\n",
    "                         input_shape=(192, 192, 3))\n",
    "\n",
    "base_model = Model(inputs=pretrained_model.input, outputs=pretrained_model.get_layer('block3_conv3').output)\n",
    "x = base_model.output\n",
    "x = BatchNormalization()(x)\n",
    "x = GlobalAveragePooling2D()(x)\n",
    "x = Dense(latent_dim)(x)\n",
    "x = BatchNormalization(name='latent_vector')(x)\n",
    "x = Activation('relu')(x)\n",
    "if fit_method == 'classify':\n",
    "    predictions = Dense(1, activation='sigmoid')(x)\n",
    "else:\n",
    "    predictions = Dense(1)(x)\n",
    "\n",
    "model = Model(inputs=base_model.input, outputs=predictions)\n",
    "model.summary()"
   ]
  },
  {
   "cell_type": "markdown",
   "metadata": {},
   "source": [
    "### Model fitting"
   ]
  },
  {
   "cell_type": "code",
   "execution_count": 13,
   "metadata": {},
   "outputs": [
    {
     "data": {
      "image/png": "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