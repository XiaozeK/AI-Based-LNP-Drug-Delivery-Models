{
 "cells": [
  {
   "cell_type": "markdown",
   "metadata": {},
   "source": [
    "## GBMs for t=1 to t=20\n",
    "* GBM grid search using tsfresh time-series features computed in 'LNP_tsfresh_efficient_extract_select_PCA_regression.py'\n",
    "* fit best model from grid search\n",
    "* seperate model for each prediction model (classification or regression) and each cross-validation fold\n",
    "* save out predictions on the test data"
   ]
  },
  {
   "cell_type": "code",
   "execution_count": 1,
   "metadata": {},
   "outputs": [],
   "source": [
    "from __future__ import absolute_import\n",
    "from __future__ import division\n",
    "from __future__ import print_function"
   ]
  },
  {
   "cell_type": "code",
   "execution_count": 2,
   "metadata": {},
   "outputs": [],
   "source": [
    "import numpy as np\n",
    "import matplotlib.pyplot as plt\n",
    "import pandas as pd\n",
    "import cv2\n",
    "import xgboost as xgb\n",
    "\n",
    "from scipy.stats import uniform, randint\n",
    "\n",
    "from sklearn.decomposition import PCA\n",
    "from sklearn.preprocessing import StandardScaler, RobustScaler, MinMaxScaler\n",
    "from sklearn.metrics import mean_squared_error\n",
    "\n",
    "from sklearn.model_selection import cross_val_score, GridSearchCV, KFold, RandomizedSearchCV, train_test_split"
   ]
  },
  {
   "cell_type": "markdown",
   "metadata": {},
   "source": [
    "### Settings"
   ]
  },
  {
   "cell_type": "code",
   "execution_count": 3,
   "metadata": {},
   "outputs": [
    {
     "name": "stderr",
     "output_type": "stream",
     "text": [
      "/usr/local/lib/python3.6/dist-packages/ipykernel_launcher.py:7: FutureWarning: Method .as_matrix will be removed in a future version. Use .values instead.\n",
      "  import sys\n",
      "/usr/local/lib/python3.6/dist-packages/ipykernel_launcher.py:11: FutureWarning: Method .as_matrix will be removed in a future version. Use .values instead.\n",
      "  # This is added back by InteractiveShellApp.init_path()\n"
     ]
    }
   ],
   "source": [
    "n_time = 20\n",
    "n_latent = 32\n",
    "fold = 'fold5'\n",
    "fit_method = 'regress'\n",
    "\n",
    "X_train_pca = pd.read_csv('/scratch-shared/phil/LNP/LNP_data_09/tsfresh_efficient_pca_train_features_' + fit_method + '_' + fold + '.csv')\n",
    "X_train_pca = X_train_pca.as_matrix()\n",
    "X_train_pca = X_train_pca[:,1:]\n",
    "\n",
    "X_test_pca = pd.read_csv('/scratch-shared/phil/LNP/LNP_data_09/tsfresh_efficient_pca_test_features_' + fit_method + '_' + fold + '.csv')\n",
    "X_test_pca = X_test_pca.as_matrix()\n",
    "X_test_pca = X_test_pca[:,1:]\n",
    "\n",
    "train_ids = np.load('/scratch-shared/phil/LNP/LNP_data_09/train_cell_ids_' + fit_method + '_' + fold + '.npy')\n",
    "\n",
    "train_y = np.load('/scratch-shared/phil/LNP/LNP_data_09/train_cell_gfp_' + fit_method + '_' + fold + '.npy')\n",
    "test_y = np.load('/scratch-shared/phil/LNP/LNP_data_09/test_cell_gfp_' + fit_method + '_' + fold + '.npy')\n",
    "\n",
    "train_index = []\n",
    "valid_index = []\n",
    "\n",
    "for i in range(len(train_ids)):\n",
    "    s0 = train_ids[i].split('train/')\n",
    "    s1 = s0[1].split('_')[0]\n",
    "    if s1 == fold:\n",
    "        valid_index.append(i)\n",
    "    else:\n",
    "        train_index.append(i)\n",
    "\n",
    "X_train_pca_train = X_train_pca[train_index]\n",
    "train_y_train = train_y[train_index]\n",
    "\n",
    "X_train_pca_valid = X_train_pca[valid_index]\n",
    "train_y_valid = train_y[valid_index]\n",
    "\n",
    "# getting positive class weights for when in classificatio